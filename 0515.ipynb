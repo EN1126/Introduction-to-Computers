{
  "nbformat": 4,
  "nbformat_minor": 0,
  "metadata": {
    "colab": {
      "provenance": [],
      "authorship_tag": "ABX9TyOLvyfPUnKm9bGqeKOXlZmS",
      "include_colab_link": true
    },
    "kernelspec": {
      "name": "python3",
      "display_name": "Python 3"
    },
    "language_info": {
      "name": "python"
    }
  },
  "cells": [
    {
      "cell_type": "markdown",
      "metadata": {
        "id": "view-in-github",
        "colab_type": "text"
      },
      "source": [
        "<a href=\"https://colab.research.google.com/github/EN1126/Introduction-to-Computers/blob/main/0515.ipynb\" target=\"_parent\"><img src=\"https://colab.research.google.com/assets/colab-badge.svg\" alt=\"Open In Colab\"/></a>"
      ]
    },
    {
      "cell_type": "code",
      "source": [
        "print(\"0515\")"
      ],
      "metadata": {
        "colab": {
          "base_uri": "https://localhost:8080/"
        },
        "id": "R3bsAdtTS-V1",
        "outputId": "dc808790-a43e-4974-fa21-2d2cd2ce5132"
      },
      "execution_count": 1,
      "outputs": [
        {
          "output_type": "stream",
          "name": "stdout",
          "text": [
            "0515\n"
          ]
        }
      ]
    },
    {
      "cell_type": "code",
      "source": [
        "rain = str(input(\"今天會下雨嗎?\"))\n",
        "if (rain ==\"Y\" or rain ==\"y\"):\n",
        "  print(\"出門記得帶傘!\")\n",
        "elif (rain ==\"N\" or rain ==\"n\"):\n",
        "  print(\"出門記得帶傘!\")\n",
        "else:\n",
        "  print(\"請重新輸入!\")    \n"
      ],
      "metadata": {
        "colab": {
          "base_uri": "https://localhost:8080/"
        },
        "id": "JHlXxfa0TEXt",
        "outputId": "c57cb3b5-f60d-4cb3-9fa3-f7b7566b4786"
      },
      "execution_count": 4,
      "outputs": [
        {
          "output_type": "stream",
          "name": "stdout",
          "text": [
            "今天會下雨嗎?o\n",
            "請重新輸入!\n"
          ]
        }
      ]
    },
    {
      "cell_type": "code",
      "source": [
        "rain = str(input(\"今天會下雨嗎?\"))\n",
        "if (rain ==\"Y\"):\n",
        "  print(\"出門記得帶傘!\")\n",
        "elif (rain ==\"y\"):\n",
        "  print(\"出門記得帶傘!\")\n",
        "elif (rain ==\"N\"):\n",
        "  print(\"出門記得帶傘!\")\n",
        "elif (rain ==\"n\"):\n",
        "  print(\"出門記得帶傘!\")\n",
        "else:\n",
        "  print(\"請重新輸入!\")"
      ],
      "metadata": {
        "colab": {
          "base_uri": "https://localhost:8080/"
        },
        "id": "BHP72WQEU9QL",
        "outputId": "b6889da1-90f6-49ca-a9a1-999ff054dbd6"
      },
      "execution_count": 6,
      "outputs": [
        {
          "output_type": "stream",
          "name": "stdout",
          "text": [
            "今天會下雨嗎?o\n",
            "請重新輸入!\n"
          ]
        }
      ]
    },
    {
      "cell_type": "code",
      "source": [
        "temperature = int(input(\"體溫:\"))\n",
        "if temperature >= 37.5:\n",
        "  print(\"體溫過高!\")\n",
        "elif temperature <= 37.4 and temperature >= 37:\n",
        "  print(\"體溫略高!\")\n",
        "elif temperature <= 36.9 and temperature >= 34.5:\n",
        "  print(\"體溫正常!\")\n",
        "else:\n",
        "  print(\"體溫異常，請重新測量!\")"
      ],
      "metadata": {
        "colab": {
          "base_uri": "https://localhost:8080/"
        },
        "id": "rad0V2khYV-B",
        "outputId": "2d5699fd-5b24-444e-c60e-7578846abae9"
      },
      "execution_count": 11,
      "outputs": [
        {
          "output_type": "stream",
          "name": "stdout",
          "text": [
            "體溫:37\n",
            "體溫略高!\n"
          ]
        }
      ]
    },
    {
      "cell_type": "code",
      "source": [
        "score = int(input(\"請輸入成績:\"))\n",
        "if score >= 90:\n",
        "  print('A')\n",
        "elif score <= 89 and score >= 80:\n",
        "  print('B')\n",
        "elif score <= 79 and score >= 70:\n",
        "  print('C')\n",
        "elif score <= 69 and score >= 60:\n",
        "  print('D')  \n",
        "else:\n",
        "  print('E')"
      ],
      "metadata": {
        "colab": {
          "base_uri": "https://localhost:8080/"
        },
        "id": "jc4TfizeZcbB",
        "outputId": "6ce1bedd-1ea2-4112-a4ad-579b6cea686d"
      },
      "execution_count": 12,
      "outputs": [
        {
          "output_type": "stream",
          "name": "stdout",
          "text": [
            "請輸入成績:89\n",
            "B\n"
          ]
        }
      ]
    },
    {
      "cell_type": "code",
      "source": [
        "month = int(input(\"請輸入月份:\"))\n",
        "if (month == 3 or month == 4 or month == 5):\n",
        "  print(month,\"月是春天\")\n",
        "elif (month == 6 or month == 7 or month == 8):\n",
        "  print(month,\"月是夏天\")\n",
        "elif (month == 9 or month == 10 or month == 11):\n",
        "  print(month,\"月是秋天\")\n",
        "elif (month == 12 or month == 1 or month == 2):\n",
        "  print(month,\"月是冬天\")\n",
        "else:\n",
        "  print(\"月份不在範圍內\")"
      ],
      "metadata": {
        "colab": {
          "base_uri": "https://localhost:8080/"
        },
        "id": "fNwmulJbaLq_",
        "outputId": "90a5042a-d34c-4ff3-9e0b-aa4d519fac3c"
      },
      "execution_count": 13,
      "outputs": [
        {
          "output_type": "stream",
          "name": "stdout",
          "text": [
            "請輸入月份:12\n",
            "12 月是冬天\n"
          ]
        }
      ]
    },
    {
      "cell_type": "code",
      "source": [
        "income = int(input(\"請輸入今年輸入淨額:\"))\n",
        "if (income>=2000000):\n",
        "  tax = income*0.3\n",
        "  print(\"賦稅金額\")"
      ],
      "metadata": {
        "id": "pFD-BGy3bYOJ"
      },
      "execution_count": null,
      "outputs": []
    }
  ]
}